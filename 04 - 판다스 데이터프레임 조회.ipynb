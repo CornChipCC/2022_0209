{
 "cells": [
  {
   "cell_type": "markdown",
   "metadata": {
    "id": "BFhIXgdYoYGp"
   },
   "source": [
    "# 04 - 판다스 데이터프레임 조회"
   ]
  },
  {
   "cell_type": "markdown",
   "metadata": {
    "id": "-sdzPN0Uwxi2"
   },
   "source": [
    "## 3.데이터프레임 조회\n",
    "\n",
    "- 보고자 하는 데이터를 즉시 조회할 수 있도록 반복 학습과 실습을 통해 익숙해져야 합니다.\n",
    "- 데이터프레임을 대상으로 조회하는 방법은 다양합니다.\n",
    "- 그 중 한 가지 방법을 선택해 일관되게 사용하기를 권고합니다."
   ]
  },
  {
   "cell_type": "code",
   "execution_count": 1,
   "metadata": {
    "id": "0wzhP3IXYnVQ"
   },
   "outputs": [],
   "source": [
    "# 라이브러리 불러오기\n",
    "import pandas as pd"
   ]
  },
  {
   "cell_type": "markdown",
   "metadata": {
    "id": "WUSoqSxcYnV5"
   },
   "source": [
    "### 3.1.데이터 읽어오기"
   ]
  },
  {
   "cell_type": "markdown",
   "metadata": {
    "id": "RMat6uwGn9Gj"
   },
   "source": [
    "* Attrition 데이터 불러오기"
   ]
  },
  {
   "cell_type": "markdown",
   "metadata": {
    "id": "155flcV-LNEC"
   },
   "source": [
    "**[Attrition 데이터 셋 정보]**\n",
    "\n",
    "|\t구분\t|\t변수 명\t|\t내용\t|\ttype\t|\t비고\t|\n",
    "|\t----\t|\t----\t|\t----\t|\t----\t|\t----\t|\n",
    "|\t**Target**\t|\t**Attrition**\t|\t이직여부, Yes , No\t|\t범주\t| 1- 이직, 0- 잔류\t\t|\n",
    "|\tfeature\t|\tAge\t|\t나이\t|\t숫자\t|\t\t|\n",
    "|\tfeature\t|\tDistanceFromHome\t|\t집-직장 거리\t|\t숫자\t|\t마일\t|\n",
    "|\tfeature\t|\tEmployNumber\t|\t사번\t|\t숫자\t| \t|\n",
    "|\tfeature\t|\tGender\t|\t성별\t|\t범주\t| Male, Female\t\t|\n",
    "|\tfeature\t|\tJobSatisfaction\t|\t직무 만족도\t|\t범주\t|\t1 Low, 2 Medium, 3 High, 4 Very High\t|\n",
    "|\tfeature\t|\tMaritalStatus\t|\t결혼상태\t|\t범주\t| Single, Married, Divorced\t\t|\n",
    "|\tfeature\t|\tMonthlyIncome\t|\t월급\t|\t숫자\t| 달러\t|\n",
    "|\tfeature\t|\tOverTime\t|\t야근여부\t|\t범주\t|\tYes, No\t|\n",
    "|\tfeature\t|\tPercentSalaryHike\t|\t전년대비 급여인상율\t|\t숫자\t|\t%\t|\n",
    "|\tfeature\t|\tTotalWorkingYears\t|\t총 경력 연수\t|\t숫자\t|\t\t|"
   ]
  },
  {
   "cell_type": "code",
   "execution_count": 2,
   "metadata": {
    "id": "Oa9sLGQ8IJOb",
    "scrolled": false
   },
   "outputs": [
    {
     "data": {
      "text/html": [
       "<div>\n",
       "<style scoped>\n",
       "    .dataframe tbody tr th:only-of-type {\n",
       "        vertical-align: middle;\n",
       "    }\n",
       "\n",
       "    .dataframe tbody tr th {\n",
       "        vertical-align: top;\n",
       "    }\n",
       "\n",
       "    .dataframe thead th {\n",
       "        text-align: right;\n",
       "    }\n",
       "</style>\n",
       "<table border=\"1\" class=\"dataframe\">\n",
       "  <thead>\n",
       "    <tr style=\"text-align: right;\">\n",
       "      <th></th>\n",
       "      <th>Attrition</th>\n",
       "      <th>Age</th>\n",
       "      <th>DistanceFromHome</th>\n",
       "      <th>EmployeeNumber</th>\n",
       "      <th>Gender</th>\n",
       "      <th>JobSatisfaction</th>\n",
       "      <th>MaritalStatus</th>\n",
       "      <th>MonthlyIncome</th>\n",
       "      <th>OverTime</th>\n",
       "      <th>PercentSalaryHike</th>\n",
       "      <th>TotalWorkingYears</th>\n",
       "    </tr>\n",
       "  </thead>\n",
       "  <tbody>\n",
       "    <tr>\n",
       "      <th>0</th>\n",
       "      <td>0</td>\n",
       "      <td>33</td>\n",
       "      <td>7</td>\n",
       "      <td>817</td>\n",
       "      <td>Male</td>\n",
       "      <td>3</td>\n",
       "      <td>Married</td>\n",
       "      <td>11691</td>\n",
       "      <td>No</td>\n",
       "      <td>11</td>\n",
       "      <td>14</td>\n",
       "    </tr>\n",
       "    <tr>\n",
       "      <th>1</th>\n",
       "      <td>0</td>\n",
       "      <td>35</td>\n",
       "      <td>18</td>\n",
       "      <td>1412</td>\n",
       "      <td>Male</td>\n",
       "      <td>4</td>\n",
       "      <td>Single</td>\n",
       "      <td>9362</td>\n",
       "      <td>No</td>\n",
       "      <td>11</td>\n",
       "      <td>10</td>\n",
       "    </tr>\n",
       "    <tr>\n",
       "      <th>2</th>\n",
       "      <td>0</td>\n",
       "      <td>42</td>\n",
       "      <td>6</td>\n",
       "      <td>1911</td>\n",
       "      <td>Male</td>\n",
       "      <td>1</td>\n",
       "      <td>Married</td>\n",
       "      <td>13348</td>\n",
       "      <td>No</td>\n",
       "      <td>13</td>\n",
       "      <td>18</td>\n",
       "    </tr>\n",
       "    <tr>\n",
       "      <th>3</th>\n",
       "      <td>0</td>\n",
       "      <td>46</td>\n",
       "      <td>2</td>\n",
       "      <td>1204</td>\n",
       "      <td>Female</td>\n",
       "      <td>1</td>\n",
       "      <td>Married</td>\n",
       "      <td>17048</td>\n",
       "      <td>No</td>\n",
       "      <td>23</td>\n",
       "      <td>28</td>\n",
       "    </tr>\n",
       "    <tr>\n",
       "      <th>4</th>\n",
       "      <td>1</td>\n",
       "      <td>22</td>\n",
       "      <td>4</td>\n",
       "      <td>593</td>\n",
       "      <td>Male</td>\n",
       "      <td>3</td>\n",
       "      <td>Single</td>\n",
       "      <td>3894</td>\n",
       "      <td>No</td>\n",
       "      <td>16</td>\n",
       "      <td>4</td>\n",
       "    </tr>\n",
       "  </tbody>\n",
       "</table>\n",
       "</div>"
      ],
      "text/plain": [
       "   Attrition  Age  DistanceFromHome  EmployeeNumber  Gender  JobSatisfaction  \\\n",
       "0          0   33                 7             817    Male                3   \n",
       "1          0   35                18            1412    Male                4   \n",
       "2          0   42                 6            1911    Male                1   \n",
       "3          0   46                 2            1204  Female                1   \n",
       "4          1   22                 4             593    Male                3   \n",
       "\n",
       "  MaritalStatus  MonthlyIncome OverTime  PercentSalaryHike  TotalWorkingYears  \n",
       "0       Married          11691       No                 11                 14  \n",
       "1        Single           9362       No                 11                 10  \n",
       "2       Married          13348       No                 13                 18  \n",
       "3       Married          17048       No                 23                 28  \n",
       "4        Single           3894       No                 16                  4  "
      ]
     },
     "execution_count": 2,
     "metadata": {},
     "output_type": "execute_result"
    }
   ],
   "source": [
    "# 데이터 읽어오기\n",
    "path = 'https://raw.githubusercontent.com/DA4BAM/dataset/master/Attrition_simple2.CSV'\n",
    "data = pd.read_csv(path)  \n",
    "\n",
    "# 상위 5개 확인\n",
    "data.head(5)"
   ]
  },
  {
   "cell_type": "code",
   "execution_count": null,
   "metadata": {
    "id": "5RNOXdO-ATkn",
    "scrolled": true
   },
   "outputs": [],
   "source": [
    "# 확인\n",
    "data.head()"
   ]
  },
  {
   "cell_type": "markdown",
   "metadata": {
    "id": "pZClbsyZVPlm"
   },
   "source": [
    "* 시리즈(Series)와 데이터프레임(DataFrame)\n",
    "    * 데이터프레임 : 2차원 구조\n",
    "    * 시리즈 : 1차원 구조\n",
    "        * 데이터프레임에서 열 하나를 띄어 내면 시리즈!\n"
   ]
  },
  {
   "cell_type": "markdown",
   "metadata": {
    "id": "F1aRhKnGVshU"
   },
   "source": [
    "<img src='https://github.com/DA4BAM/image/blob/main/%EC%8B%9C%EB%A6%AC%EC%A6%88,%20%EB%8D%B0%EC%9D%B4%ED%84%B0%ED%94%84%EB%A0%88%EC%9E%84.png?raw=true' width=500 align=\"left\"/>"
   ]
  },
  {
   "cell_type": "markdown",
   "metadata": {
    "id": "Mt5BqItLATk8"
   },
   "source": [
    "### 3.2.특정 열 조회\n",
    "\n",
    "- **df.loc[ : , [열 이름1, 열 이름2,...]]** 형태로 조회할 열 이름을 리스트로 지정합니다.\n",
    "- 열 부분은 생략할 수 있었지만, **행 부분을 생략할 수는 없습니다.**\n",
    "- 하지만 **df[[열 이름1, 열 이름2,...]]** 형태로 인덱서를 생략함이 일반적입니다.\n",
    "- 조회할 열이 하나면 리스트 형태가 아니어도 됩니다."
   ]
  },
  {
   "cell_type": "code",
   "execution_count": null,
   "metadata": {
    "id": "lcmP48_qmiVd",
    "scrolled": true
   },
   "outputs": [],
   "source": [
    "# Attrition 열 조회 : 시리즈로 조회\n",
    "data['Attrition']"
   ]
  },
  {
   "cell_type": "code",
   "execution_count": null,
   "metadata": {
    "id": "6D77dd10yunA"
   },
   "outputs": [],
   "source": [
    "# Attrition 열 조회2 : 시리즈로 조회\n",
    "data.Attrition"
   ]
  },
  {
   "cell_type": "code",
   "execution_count": null,
   "metadata": {
    "id": "iFPT5P2jRFSa",
    "scrolled": false
   },
   "outputs": [],
   "source": [
    "# Attrition, Age 열 조회 : 데이터프레임으로 조회\n",
    "# 대괄호 안에 또 대괄호로 읽지 마시고, 대괄호 안에 리스트!!!\n",
    "data[['Attrition', 'Age' ]]"
   ]
  },
  {
   "cell_type": "markdown",
   "metadata": {
    "id": "mHrKYYWip4Es"
   },
   "source": [
    "<img src='https://raw.githubusercontent.com/jangrae/img/master/practice_01.png' width=120 align=\"left\"/>"
   ]
  },
  {
   "cell_type": "markdown",
   "metadata": {
    "id": "-hv9haY7DLyU"
   },
   "source": [
    "[문1] data 데이터프레임에 대해 아래 요구사항에 맞는 구문을 작성하고 실행하세요."
   ]
  },
  {
   "cell_type": "code",
   "execution_count": 3,
   "metadata": {
    "id": "-VJoVHxgJQSn"
   },
   "outputs": [
    {
     "data": {
      "text/html": [
       "<div>\n",
       "<style scoped>\n",
       "    .dataframe tbody tr th:only-of-type {\n",
       "        vertical-align: middle;\n",
       "    }\n",
       "\n",
       "    .dataframe tbody tr th {\n",
       "        vertical-align: top;\n",
       "    }\n",
       "\n",
       "    .dataframe thead th {\n",
       "        text-align: right;\n",
       "    }\n",
       "</style>\n",
       "<table border=\"1\" class=\"dataframe\">\n",
       "  <thead>\n",
       "    <tr style=\"text-align: right;\">\n",
       "      <th></th>\n",
       "      <th>Attrition</th>\n",
       "      <th>Age</th>\n",
       "      <th>DistanceFromHome</th>\n",
       "      <th>EmployeeNumber</th>\n",
       "      <th>Gender</th>\n",
       "      <th>JobSatisfaction</th>\n",
       "      <th>MaritalStatus</th>\n",
       "      <th>MonthlyIncome</th>\n",
       "      <th>OverTime</th>\n",
       "      <th>PercentSalaryHike</th>\n",
       "      <th>TotalWorkingYears</th>\n",
       "    </tr>\n",
       "  </thead>\n",
       "  <tbody>\n",
       "    <tr>\n",
       "      <th>0</th>\n",
       "      <td>0</td>\n",
       "      <td>33</td>\n",
       "      <td>7</td>\n",
       "      <td>817</td>\n",
       "      <td>Male</td>\n",
       "      <td>3</td>\n",
       "      <td>Married</td>\n",
       "      <td>11691</td>\n",
       "      <td>No</td>\n",
       "      <td>11</td>\n",
       "      <td>14</td>\n",
       "    </tr>\n",
       "    <tr>\n",
       "      <th>1</th>\n",
       "      <td>0</td>\n",
       "      <td>35</td>\n",
       "      <td>18</td>\n",
       "      <td>1412</td>\n",
       "      <td>Male</td>\n",
       "      <td>4</td>\n",
       "      <td>Single</td>\n",
       "      <td>9362</td>\n",
       "      <td>No</td>\n",
       "      <td>11</td>\n",
       "      <td>10</td>\n",
       "    </tr>\n",
       "    <tr>\n",
       "      <th>2</th>\n",
       "      <td>0</td>\n",
       "      <td>42</td>\n",
       "      <td>6</td>\n",
       "      <td>1911</td>\n",
       "      <td>Male</td>\n",
       "      <td>1</td>\n",
       "      <td>Married</td>\n",
       "      <td>13348</td>\n",
       "      <td>No</td>\n",
       "      <td>13</td>\n",
       "      <td>18</td>\n",
       "    </tr>\n",
       "    <tr>\n",
       "      <th>3</th>\n",
       "      <td>0</td>\n",
       "      <td>46</td>\n",
       "      <td>2</td>\n",
       "      <td>1204</td>\n",
       "      <td>Female</td>\n",
       "      <td>1</td>\n",
       "      <td>Married</td>\n",
       "      <td>17048</td>\n",
       "      <td>No</td>\n",
       "      <td>23</td>\n",
       "      <td>28</td>\n",
       "    </tr>\n",
       "    <tr>\n",
       "      <th>4</th>\n",
       "      <td>1</td>\n",
       "      <td>22</td>\n",
       "      <td>4</td>\n",
       "      <td>593</td>\n",
       "      <td>Male</td>\n",
       "      <td>3</td>\n",
       "      <td>Single</td>\n",
       "      <td>3894</td>\n",
       "      <td>No</td>\n",
       "      <td>16</td>\n",
       "      <td>4</td>\n",
       "    </tr>\n",
       "  </tbody>\n",
       "</table>\n",
       "</div>"
      ],
      "text/plain": [
       "   Attrition  Age  DistanceFromHome  EmployeeNumber  Gender  JobSatisfaction  \\\n",
       "0          0   33                 7             817    Male                3   \n",
       "1          0   35                18            1412    Male                4   \n",
       "2          0   42                 6            1911    Male                1   \n",
       "3          0   46                 2            1204  Female                1   \n",
       "4          1   22                 4             593    Male                3   \n",
       "\n",
       "  MaritalStatus  MonthlyIncome OverTime  PercentSalaryHike  TotalWorkingYears  \n",
       "0       Married          11691       No                 11                 14  \n",
       "1        Single           9362       No                 11                 10  \n",
       "2       Married          13348       No                 13                 18  \n",
       "3       Married          17048       No                 23                 28  \n",
       "4        Single           3894       No                 16                  4  "
      ]
     },
     "execution_count": 3,
     "metadata": {},
     "output_type": "execute_result"
    }
   ],
   "source": [
    "# 상위 5개 행 조회\n",
    "data.head(5)"
   ]
  },
  {
   "cell_type": "code",
   "execution_count": 4,
   "metadata": {
    "id": "QKSCi3-BCVlI"
   },
   "outputs": [
    {
     "data": {
      "text/plain": [
       "0    11\n",
       "1    11\n",
       "2    13\n",
       "3    23\n",
       "4    16\n",
       "Name: PercentSalaryHike, dtype: int64"
      ]
     },
     "execution_count": 4,
     "metadata": {},
     "output_type": "execute_result"
    }
   ],
   "source": [
    "# PercentSalaryHike 열만 조회\n",
    "data['PercentSalaryHike'].head()"
   ]
  },
  {
   "cell_type": "code",
   "execution_count": 5,
   "metadata": {
    "id": "6SdhRJ2SW-eL"
   },
   "outputs": [
    {
     "data": {
      "text/html": [
       "<div>\n",
       "<style scoped>\n",
       "    .dataframe tbody tr th:only-of-type {\n",
       "        vertical-align: middle;\n",
       "    }\n",
       "\n",
       "    .dataframe tbody tr th {\n",
       "        vertical-align: top;\n",
       "    }\n",
       "\n",
       "    .dataframe thead th {\n",
       "        text-align: right;\n",
       "    }\n",
       "</style>\n",
       "<table border=\"1\" class=\"dataframe\">\n",
       "  <thead>\n",
       "    <tr style=\"text-align: right;\">\n",
       "      <th></th>\n",
       "      <th>Age</th>\n",
       "      <th>DistanceFromHome</th>\n",
       "      <th>Gender</th>\n",
       "    </tr>\n",
       "  </thead>\n",
       "  <tbody>\n",
       "    <tr>\n",
       "      <th>0</th>\n",
       "      <td>33</td>\n",
       "      <td>7</td>\n",
       "      <td>Male</td>\n",
       "    </tr>\n",
       "    <tr>\n",
       "      <th>1</th>\n",
       "      <td>35</td>\n",
       "      <td>18</td>\n",
       "      <td>Male</td>\n",
       "    </tr>\n",
       "    <tr>\n",
       "      <th>2</th>\n",
       "      <td>42</td>\n",
       "      <td>6</td>\n",
       "      <td>Male</td>\n",
       "    </tr>\n",
       "    <tr>\n",
       "      <th>3</th>\n",
       "      <td>46</td>\n",
       "      <td>2</td>\n",
       "      <td>Female</td>\n",
       "    </tr>\n",
       "    <tr>\n",
       "      <th>4</th>\n",
       "      <td>22</td>\n",
       "      <td>4</td>\n",
       "      <td>Male</td>\n",
       "    </tr>\n",
       "    <tr>\n",
       "      <th>...</th>\n",
       "      <td>...</td>\n",
       "      <td>...</td>\n",
       "      <td>...</td>\n",
       "    </tr>\n",
       "    <tr>\n",
       "      <th>1191</th>\n",
       "      <td>32</td>\n",
       "      <td>5</td>\n",
       "      <td>Female</td>\n",
       "    </tr>\n",
       "    <tr>\n",
       "      <th>1192</th>\n",
       "      <td>27</td>\n",
       "      <td>19</td>\n",
       "      <td>Male</td>\n",
       "    </tr>\n",
       "    <tr>\n",
       "      <th>1193</th>\n",
       "      <td>29</td>\n",
       "      <td>9</td>\n",
       "      <td>Male</td>\n",
       "    </tr>\n",
       "    <tr>\n",
       "      <th>1194</th>\n",
       "      <td>29</td>\n",
       "      <td>2</td>\n",
       "      <td>Male</td>\n",
       "    </tr>\n",
       "    <tr>\n",
       "      <th>1195</th>\n",
       "      <td>43</td>\n",
       "      <td>16</td>\n",
       "      <td>Female</td>\n",
       "    </tr>\n",
       "  </tbody>\n",
       "</table>\n",
       "<p>1196 rows × 3 columns</p>\n",
       "</div>"
      ],
      "text/plain": [
       "      Age  DistanceFromHome  Gender\n",
       "0      33                 7    Male\n",
       "1      35                18    Male\n",
       "2      42                 6    Male\n",
       "3      46                 2  Female\n",
       "4      22                 4    Male\n",
       "...   ...               ...     ...\n",
       "1191   32                 5  Female\n",
       "1192   27                19    Male\n",
       "1193   29                 9    Male\n",
       "1194   29                 2    Male\n",
       "1195   43                16  Female\n",
       "\n",
       "[1196 rows x 3 columns]"
      ]
     },
     "execution_count": 5,
     "metadata": {},
     "output_type": "execute_result"
    }
   ],
   "source": [
    "#  Age, DistanceFromHome, Gender열만 조회\n",
    "data[['Age', 'DistanceFromHome', 'Gender']]"
   ]
  },
  {
   "cell_type": "code",
   "execution_count": 6,
   "metadata": {
    "id": "AqjqXOaUJlQP"
   },
   "outputs": [
    {
     "data": {
      "text/html": [
       "<div>\n",
       "<style scoped>\n",
       "    .dataframe tbody tr th:only-of-type {\n",
       "        vertical-align: middle;\n",
       "    }\n",
       "\n",
       "    .dataframe tbody tr th {\n",
       "        vertical-align: top;\n",
       "    }\n",
       "\n",
       "    .dataframe thead th {\n",
       "        text-align: right;\n",
       "    }\n",
       "</style>\n",
       "<table border=\"1\" class=\"dataframe\">\n",
       "  <thead>\n",
       "    <tr style=\"text-align: right;\">\n",
       "      <th></th>\n",
       "      <th>Age</th>\n",
       "      <th>DistanceFromHome</th>\n",
       "      <th>Gender</th>\n",
       "    </tr>\n",
       "  </thead>\n",
       "  <tbody>\n",
       "    <tr>\n",
       "      <th>198</th>\n",
       "      <td>50</td>\n",
       "      <td>29</td>\n",
       "      <td>Male</td>\n",
       "    </tr>\n",
       "    <tr>\n",
       "      <th>245</th>\n",
       "      <td>32</td>\n",
       "      <td>29</td>\n",
       "      <td>Female</td>\n",
       "    </tr>\n",
       "    <tr>\n",
       "      <th>614</th>\n",
       "      <td>24</td>\n",
       "      <td>29</td>\n",
       "      <td>Male</td>\n",
       "    </tr>\n",
       "    <tr>\n",
       "      <th>810</th>\n",
       "      <td>48</td>\n",
       "      <td>29</td>\n",
       "      <td>Female</td>\n",
       "    </tr>\n",
       "    <tr>\n",
       "      <th>312</th>\n",
       "      <td>57</td>\n",
       "      <td>29</td>\n",
       "      <td>Male</td>\n",
       "    </tr>\n",
       "  </tbody>\n",
       "</table>\n",
       "</div>"
      ],
      "text/plain": [
       "     Age  DistanceFromHome  Gender\n",
       "198   50                29    Male\n",
       "245   32                29  Female\n",
       "614   24                29    Male\n",
       "810   48                29  Female\n",
       "312   57                29    Male"
      ]
     },
     "execution_count": 6,
     "metadata": {},
     "output_type": "execute_result"
    }
   ],
   "source": [
    "# Age, DistanceFromHome, Gender열만 DistanceFromHome 열 기준으로 내림차순 정렬해서 조회\n",
    "data[['Age', 'DistanceFromHome', 'Gender']].sort_values('DistanceFromHome',ascending = False).head()"
   ]
  },
  {
   "cell_type": "markdown",
   "metadata": {
    "id": "OK5DYqPYwxnB"
   },
   "source": [
    "### 3.3.조건으로 조회\n",
    "\n",
    "- **df.loc[조건]** 형태로 조건을 지정해 조건에 만족하는 데이터만 조회할 수 있습니다.\n",
    "- 우선 조건이 제대로 판단이 되는지 확인한 후 그 **조건을 대 괄호 안에** 넣으면 됩니다."
   ]
  },
  {
   "cell_type": "markdown",
   "metadata": {
    "id": "60zsY0EGATpv"
   },
   "source": [
    "**1) 단일 조건 조회**"
   ]
  },
  {
   "cell_type": "code",
   "execution_count": null,
   "metadata": {
    "id": "qCCHz7FMlKpf"
   },
   "outputs": [],
   "source": [
    "# 조건절(조건문)의 결과는 True, False\n",
    "data['DistanceFromHome'] > 10"
   ]
  },
  {
   "cell_type": "code",
   "execution_count": null,
   "metadata": {
    "id": "Kp2lBEDTYnWI",
    "scrolled": true
   },
   "outputs": [],
   "source": [
    "# DistanceFromHome 열 값이 10 보다 큰 행 조회\n",
    "data.loc[data['DistanceFromHome'] > 10]"
   ]
  },
  {
   "cell_type": "markdown",
   "metadata": {
    "id": "JkiA7cEsATq9"
   },
   "source": [
    "**2) 여러 조건 조회**\n",
    "\n",
    "- [ ]안에 조건을 여러개 연결할 때 **and와 or 대신에 &와 |**를 사용해야 합니다.\n",
    "- 그리고 각 조건들은 **(조건1) & (조건2)** 형태로 **괄호**로 묶어야 합니다."
   ]
  },
  {
   "cell_type": "code",
   "execution_count": 7,
   "metadata": {
    "id": "Vj3YKKw3YnWL",
    "scrolled": true
   },
   "outputs": [
    {
     "data": {
      "text/html": [
       "<div>\n",
       "<style scoped>\n",
       "    .dataframe tbody tr th:only-of-type {\n",
       "        vertical-align: middle;\n",
       "    }\n",
       "\n",
       "    .dataframe tbody tr th {\n",
       "        vertical-align: top;\n",
       "    }\n",
       "\n",
       "    .dataframe thead th {\n",
       "        text-align: right;\n",
       "    }\n",
       "</style>\n",
       "<table border=\"1\" class=\"dataframe\">\n",
       "  <thead>\n",
       "    <tr style=\"text-align: right;\">\n",
       "      <th></th>\n",
       "      <th>Attrition</th>\n",
       "      <th>Age</th>\n",
       "      <th>DistanceFromHome</th>\n",
       "      <th>EmployeeNumber</th>\n",
       "      <th>Gender</th>\n",
       "      <th>JobSatisfaction</th>\n",
       "      <th>MaritalStatus</th>\n",
       "      <th>MonthlyIncome</th>\n",
       "      <th>OverTime</th>\n",
       "      <th>PercentSalaryHike</th>\n",
       "      <th>TotalWorkingYears</th>\n",
       "    </tr>\n",
       "  </thead>\n",
       "  <tbody>\n",
       "    <tr>\n",
       "      <th>1</th>\n",
       "      <td>0</td>\n",
       "      <td>35</td>\n",
       "      <td>18</td>\n",
       "      <td>1412</td>\n",
       "      <td>Male</td>\n",
       "      <td>4</td>\n",
       "      <td>Single</td>\n",
       "      <td>9362</td>\n",
       "      <td>No</td>\n",
       "      <td>11</td>\n",
       "      <td>10</td>\n",
       "    </tr>\n",
       "    <tr>\n",
       "      <th>50</th>\n",
       "      <td>0</td>\n",
       "      <td>29</td>\n",
       "      <td>15</td>\n",
       "      <td>346</td>\n",
       "      <td>Male</td>\n",
       "      <td>4</td>\n",
       "      <td>Single</td>\n",
       "      <td>2340</td>\n",
       "      <td>No</td>\n",
       "      <td>19</td>\n",
       "      <td>6</td>\n",
       "    </tr>\n",
       "    <tr>\n",
       "      <th>51</th>\n",
       "      <td>0</td>\n",
       "      <td>45</td>\n",
       "      <td>28</td>\n",
       "      <td>1546</td>\n",
       "      <td>Male</td>\n",
       "      <td>4</td>\n",
       "      <td>Married</td>\n",
       "      <td>2132</td>\n",
       "      <td>No</td>\n",
       "      <td>20</td>\n",
       "      <td>8</td>\n",
       "    </tr>\n",
       "    <tr>\n",
       "      <th>64</th>\n",
       "      <td>0</td>\n",
       "      <td>32</td>\n",
       "      <td>15</td>\n",
       "      <td>1955</td>\n",
       "      <td>Female</td>\n",
       "      <td>4</td>\n",
       "      <td>Divorced</td>\n",
       "      <td>6667</td>\n",
       "      <td>No</td>\n",
       "      <td>18</td>\n",
       "      <td>9</td>\n",
       "    </tr>\n",
       "    <tr>\n",
       "      <th>82</th>\n",
       "      <td>1</td>\n",
       "      <td>35</td>\n",
       "      <td>12</td>\n",
       "      <td>1667</td>\n",
       "      <td>Male</td>\n",
       "      <td>4</td>\n",
       "      <td>Single</td>\n",
       "      <td>4581</td>\n",
       "      <td>Yes</td>\n",
       "      <td>24</td>\n",
       "      <td>13</td>\n",
       "    </tr>\n",
       "    <tr>\n",
       "      <th>...</th>\n",
       "      <td>...</td>\n",
       "      <td>...</td>\n",
       "      <td>...</td>\n",
       "      <td>...</td>\n",
       "      <td>...</td>\n",
       "      <td>...</td>\n",
       "      <td>...</td>\n",
       "      <td>...</td>\n",
       "      <td>...</td>\n",
       "      <td>...</td>\n",
       "      <td>...</td>\n",
       "    </tr>\n",
       "    <tr>\n",
       "      <th>1104</th>\n",
       "      <td>0</td>\n",
       "      <td>34</td>\n",
       "      <td>19</td>\n",
       "      <td>1701</td>\n",
       "      <td>Female</td>\n",
       "      <td>4</td>\n",
       "      <td>Married</td>\n",
       "      <td>2929</td>\n",
       "      <td>No</td>\n",
       "      <td>12</td>\n",
       "      <td>10</td>\n",
       "    </tr>\n",
       "    <tr>\n",
       "      <th>1126</th>\n",
       "      <td>0</td>\n",
       "      <td>35</td>\n",
       "      <td>11</td>\n",
       "      <td>1137</td>\n",
       "      <td>Male</td>\n",
       "      <td>4</td>\n",
       "      <td>Divorced</td>\n",
       "      <td>4968</td>\n",
       "      <td>No</td>\n",
       "      <td>11</td>\n",
       "      <td>5</td>\n",
       "    </tr>\n",
       "    <tr>\n",
       "      <th>1141</th>\n",
       "      <td>1</td>\n",
       "      <td>49</td>\n",
       "      <td>11</td>\n",
       "      <td>840</td>\n",
       "      <td>Female</td>\n",
       "      <td>4</td>\n",
       "      <td>Married</td>\n",
       "      <td>7654</td>\n",
       "      <td>No</td>\n",
       "      <td>18</td>\n",
       "      <td>9</td>\n",
       "    </tr>\n",
       "    <tr>\n",
       "      <th>1148</th>\n",
       "      <td>0</td>\n",
       "      <td>36</td>\n",
       "      <td>18</td>\n",
       "      <td>1133</td>\n",
       "      <td>Male</td>\n",
       "      <td>4</td>\n",
       "      <td>Single</td>\n",
       "      <td>7779</td>\n",
       "      <td>No</td>\n",
       "      <td>20</td>\n",
       "      <td>18</td>\n",
       "    </tr>\n",
       "    <tr>\n",
       "      <th>1195</th>\n",
       "      <td>0</td>\n",
       "      <td>43</td>\n",
       "      <td>16</td>\n",
       "      <td>327</td>\n",
       "      <td>Female</td>\n",
       "      <td>4</td>\n",
       "      <td>Married</td>\n",
       "      <td>16064</td>\n",
       "      <td>Yes</td>\n",
       "      <td>22</td>\n",
       "      <td>22</td>\n",
       "    </tr>\n",
       "  </tbody>\n",
       "</table>\n",
       "<p>107 rows × 11 columns</p>\n",
       "</div>"
      ],
      "text/plain": [
       "      Attrition  Age  DistanceFromHome  EmployeeNumber  Gender  \\\n",
       "1             0   35                18            1412    Male   \n",
       "50            0   29                15             346    Male   \n",
       "51            0   45                28            1546    Male   \n",
       "64            0   32                15            1955  Female   \n",
       "82            1   35                12            1667    Male   \n",
       "...         ...  ...               ...             ...     ...   \n",
       "1104          0   34                19            1701  Female   \n",
       "1126          0   35                11            1137    Male   \n",
       "1141          1   49                11             840  Female   \n",
       "1148          0   36                18            1133    Male   \n",
       "1195          0   43                16             327  Female   \n",
       "\n",
       "      JobSatisfaction MaritalStatus  MonthlyIncome OverTime  \\\n",
       "1                   4        Single           9362       No   \n",
       "50                  4        Single           2340       No   \n",
       "51                  4       Married           2132       No   \n",
       "64                  4      Divorced           6667       No   \n",
       "82                  4        Single           4581      Yes   \n",
       "...               ...           ...            ...      ...   \n",
       "1104                4       Married           2929       No   \n",
       "1126                4      Divorced           4968       No   \n",
       "1141                4       Married           7654       No   \n",
       "1148                4        Single           7779       No   \n",
       "1195                4       Married          16064      Yes   \n",
       "\n",
       "      PercentSalaryHike  TotalWorkingYears  \n",
       "1                    11                 10  \n",
       "50                   19                  6  \n",
       "51                   20                  8  \n",
       "64                   18                  9  \n",
       "82                   24                 13  \n",
       "...                 ...                ...  \n",
       "1104                 12                 10  \n",
       "1126                 11                  5  \n",
       "1141                 18                  9  \n",
       "1148                 20                 18  \n",
       "1195                 22                 22  \n",
       "\n",
       "[107 rows x 11 columns]"
      ]
     },
     "execution_count": 7,
     "metadata": {},
     "output_type": "execute_result"
    }
   ],
   "source": [
    "# and로 여러 조건 연결\n",
    "data.loc[(data['DistanceFromHome'] > 10) & (data['JobSatisfaction'] == 4)]"
   ]
  },
  {
   "cell_type": "code",
   "execution_count": null,
   "metadata": {
    "id": "KN6bdUHgLM1C",
    "scrolled": false
   },
   "outputs": [],
   "source": [
    "# or 조건 : |\n",
    "data.loc[(data['DistanceFromHome'] > 10) | (data['JobSatisfaction'] == 4)]"
   ]
  },
  {
   "cell_type": "markdown",
   "metadata": {
    "id": "uiFKTXgA2OLW"
   },
   "source": [
    "**3) 편리한 isin(), between() 메소드**\n",
    "\n",
    "- **isin([값1, 값2,..., 값n])**: 값1 또는 값2 또는...값n인 데이터만 조회합니다.\n",
    "- 주의 isin(**리스트**) 값들을 리스트 형태로 입력해야 합니다."
   ]
  },
  {
   "cell_type": "code",
   "execution_count": null,
   "metadata": {
    "id": "QcvToTXBYnWJ"
   },
   "outputs": [],
   "source": [
    "# 값 나열\n",
    "data.loc[data['JobSatisfaction'].isin([1,4])]"
   ]
  },
  {
   "cell_type": "markdown",
   "metadata": {
    "id": "mVeKzYrtMONl"
   },
   "source": [
    "- 위 구문은 다음과 같은 의미를 갖습니다."
   ]
  },
  {
   "cell_type": "code",
   "execution_count": null,
   "metadata": {
    "id": "LJV566VUwxnO"
   },
   "outputs": [],
   "source": [
    "# or 조건\n",
    "data.loc[(data['JobSatisfaction'] == 1) | (data['JobSatisfaction'] == 4)]"
   ]
  },
  {
   "cell_type": "markdown",
   "metadata": {
    "id": "tEv4D7z_3kBn"
   },
   "source": [
    "- **between(값1, 값2)**: 값1 ~ 값2까지 범위안의 데이터만 조회합니다."
   ]
  },
  {
   "cell_type": "code",
   "execution_count": null,
   "metadata": {
    "id": "IvnE4lU12L2H"
   },
   "outputs": [],
   "source": [
    "# 범위 지정\n",
    "data.loc[data['Age'].between(25, 30)]"
   ]
  },
  {
   "cell_type": "markdown",
   "metadata": {
    "id": "a0HUcr_TMHxa"
   },
   "source": [
    "- 위 구문은 다음과 같은 의미를 갖습니다."
   ]
  },
  {
   "cell_type": "code",
   "execution_count": null,
   "metadata": {
    "id": "9Qw8PEVn4dBd"
   },
   "outputs": [],
   "source": [
    "# and 조건\n",
    "data.loc[(data['Age'] >= 25) & (data['Age'] <= 30)]"
   ]
  },
  {
   "cell_type": "markdown",
   "metadata": {
    "id": "NOAU79x5ATrR"
   },
   "source": [
    "**4) 조건을 만족하는 행의 일부 열 조회**\n",
    "\n",
    "- **df.loc[조건, ['열 이름1', '열 이름2',...]]** 형태로 조회할 열을 리스트로 지정합니다. ==> 2차원, 데이터프레임형태로 조회"
   ]
  },
  {
   "cell_type": "code",
   "execution_count": null,
   "metadata": {
    "id": "YP0xnwhwATrS",
    "scrolled": false
   },
   "outputs": [],
   "source": [
    "# 조건에 맞는 하나의 열 조회\n",
    "data.loc[data['MonthlyIncome'] >= 10000, ['Age']]"
   ]
  },
  {
   "cell_type": "code",
   "execution_count": null,
   "metadata": {
    "id": "Ik6uFmsyi8FQ"
   },
   "outputs": [],
   "source": [
    "# 조건에 맞는 여러 열 조회\n",
    "data.loc[data['MonthlyIncome'] >= 10000, ['Age', 'MaritalStatus', 'TotalWorkingYears']]"
   ]
  },
  {
   "cell_type": "markdown",
   "metadata": {
    "id": "YqANwj2zPvWM"
   },
   "source": [
    "### 3.4 종합실습"
   ]
  },
  {
   "cell_type": "markdown",
   "metadata": {
    "id": "CKp1QA1Sv4Kq"
   },
   "source": [
    "1) pandas 라이브러리를 pd 별칭을 주어 불러오세요."
   ]
  },
  {
   "cell_type": "code",
   "execution_count": null,
   "metadata": {
    "id": "oN9BR9E4LA8y"
   },
   "outputs": [],
   "source": [
    "# 라이브러리 불러오기\n"
   ]
  },
  {
   "cell_type": "markdown",
   "metadata": {
    "id": "wGqmhQpZuca-"
   },
   "source": [
    "2) read_csv() 함수를 사용해 다음 경로의 파일을 불러와 **titanic** 데이터프레임을 만드세요.\n",
    "\n",
    "- 파일 경로: 'https://raw.githubusercontent.com/DA4BAM/dataset/master/titanic_simple.csv'"
   ]
  },
  {
   "cell_type": "markdown",
   "metadata": {
    "id": "kLE39uPLNIEk"
   },
   "source": [
    "**[titanic_simple 데이터 셋 정보]**\n",
    "\n",
    "- PassengerId : 승객번호\n",
    "- Survived : 생존여부(1:생존, 0:사망)\n",
    "- Pclass : 객실등급(1:1등급, 2:2등급, 3:3등급)\n",
    "- Name : 승객이름\n",
    "- Sex : 성별(male, female)\n",
    "- Age : 나이\n",
    "- Fare : 운임($)\n",
    "- Embarked : 승선지역(Southhampton, Cherbourg, Queenstown)"
   ]
  },
  {
   "cell_type": "code",
   "execution_count": null,
   "metadata": {
    "id": "brN0YxzRLjzK",
    "scrolled": false
   },
   "outputs": [],
   "source": [
    "# 파일 읽어오기\n"
   ]
  },
  {
   "cell_type": "markdown",
   "metadata": {
    "id": "El4HQDvGAaou"
   },
   "source": [
    "3) Name 열만 조회하세요."
   ]
  },
  {
   "cell_type": "code",
   "execution_count": null,
   "metadata": {
    "id": "L2MjrnWIAaow"
   },
   "outputs": [],
   "source": []
  },
  {
   "cell_type": "markdown",
   "metadata": {
    "id": "go6qFikMBVKu"
   },
   "source": [
    "4) Name, Age, Sex 열만 조회하세요."
   ]
  },
  {
   "cell_type": "code",
   "execution_count": null,
   "metadata": {
    "id": "cIroixwCBVK0"
   },
   "outputs": [],
   "source": []
  },
  {
   "cell_type": "markdown",
   "metadata": {
    "id": "t83kUgfVBhBG"
   },
   "source": [
    "5) Name, Age, Sex 열의 상위 10개 행만 확인하세요."
   ]
  },
  {
   "cell_type": "code",
   "execution_count": null,
   "metadata": {
    "id": "ARVKnVSOBhBN"
   },
   "outputs": [],
   "source": []
  },
  {
   "cell_type": "markdown",
   "metadata": {
    "id": "0Ayeres5CXBn"
   },
   "source": [
    "6) 나이가 70세 이상인 탑승객을 조회하시오."
   ]
  },
  {
   "cell_type": "code",
   "execution_count": null,
   "metadata": {
    "id": "gxh0Mhv6CXBo"
   },
   "outputs": [],
   "source": []
  },
  {
   "cell_type": "markdown",
   "metadata": {
    "id": "zxCJWKytWnUM"
   },
   "source": [
    "7) Fare(운임)의 평균을 Fare_mean으로 저장하고 그 값을 확인하세요."
   ]
  },
  {
   "cell_type": "code",
   "execution_count": null,
   "metadata": {
    "id": "UZK4A7xtWnUN"
   },
   "outputs": [],
   "source": [
    "# gre 평균\n",
    "\n",
    "\n",
    "# 확인\n"
   ]
  },
  {
   "cell_type": "markdown",
   "metadata": {
    "id": "uRS1ADKhL_VS"
   },
   "source": [
    "8) 평균 운임보다 적게 내고 탑승한 승객을 조회하시오."
   ]
  },
  {
   "cell_type": "code",
   "execution_count": null,
   "metadata": {
    "id": "U22tWnCrwxnp",
    "scrolled": false
   },
   "outputs": [],
   "source": []
  },
  {
   "cell_type": "markdown",
   "metadata": {
    "id": "-5-dpCnxnIQl"
   },
   "source": [
    "9) 승선지역(Embarked)이 'Southhampton', 'Queenstown' 인 승객을 조회하시오."
   ]
  },
  {
   "cell_type": "code",
   "execution_count": null,
   "metadata": {
    "id": "YFtGcyzinrni"
   },
   "outputs": [],
   "source": []
  },
  {
   "cell_type": "markdown",
   "metadata": {
    "id": "p7F77yB02U5o"
   },
   "source": [
    "10) 나이(Age)가 10대(10이상, 20 미만)인 남자 청소년의 평균 운임(Fare)을 구해 봅시다."
   ]
  },
  {
   "cell_type": "code",
   "execution_count": null,
   "metadata": {
    "id": "DRqjnFrO3O-b"
   },
   "outputs": [],
   "source": []
  }
 ],
 "metadata": {
  "colab": {
   "collapsed_sections": [],
   "name": "04 - 판다스 데이터프레임 조회.ipynb",
   "provenance": [],
   "toc_visible": true
  },
  "kernelspec": {
   "display_name": "Python 3",
   "language": "python",
   "name": "python3"
  },
  "language_info": {
   "codemirror_mode": {
    "name": "ipython",
    "version": 3
   },
   "file_extension": ".py",
   "mimetype": "text/x-python",
   "name": "python",
   "nbconvert_exporter": "python",
   "pygments_lexer": "ipython3",
   "version": "3.8.8"
  }
 },
 "nbformat": 4,
 "nbformat_minor": 1
}
